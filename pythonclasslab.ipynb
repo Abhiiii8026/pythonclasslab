{
 "cells": [
  {
   "cell_type": "markdown",
   "metadata": {},
   "source": [
    "# LAB PYTHON CLASS"
   ]
  },
  {
   "cell_type": "code",
   "execution_count": 1,
   "metadata": {},
   "outputs": [
    {
     "name": "stdout",
     "output_type": "stream",
     "text": [
      "Enter The First Side5\n",
      "Enter The Second Side 6\n",
      "Enter The Third Side 10\n",
      "The Sides Of Triangle are\n",
      "5\n",
      "6\n",
      "10\n"
     ]
    }
   ],
   "source": [
    "class Triangle:\n",
    "    a=0\n",
    "    b=0\n",
    "    c=0\n",
    "    def create_triangle(self):\n",
    "        self.a=int(input(\"Enter The First Side\"))\n",
    "        self.b=int(input(\"Enter The Second Side \"))\n",
    "        self.c = int(input(\"Enter The Third Side \"))\n",
    "    def printside(self):\n",
    "        print(self.a)\n",
    "        print(self.b)\n",
    "        print(self.c)\n",
    "\n",
    "tr=Triangle()\n",
    "tr.create_triangle()\n",
    "print(\"The Sides Of Triangle are\")\n",
    "tr.printside()"
   ]
  },
  {
   "cell_type": "code",
   "execution_count": 2,
   "metadata": {},
   "outputs": [
    {
     "name": "stdout",
     "output_type": "stream",
     "text": [
      "Enter The Stringharsh\n",
      "THE INPUT STRING IS harsh\n"
     ]
    }
   ],
   "source": [
    "class string:\n",
    "    a=\"\"\n",
    "    def gets(self):\n",
    "        self.a=input(\"Enter The String\")\n",
    "        return (self.a)\n",
    "st=string()\n",
    "print(\"THE INPUT STRING IS\" ,st.gets())\n"
   ]
  },
  {
   "cell_type": "code",
   "execution_count": 3,
   "metadata": {},
   "outputs": [
    {
     "name": "stdout",
     "output_type": "stream",
     "text": [
      "Enter The Length15\n",
      "Enter The width10\n",
      "The Perimeter of Rectangle is 50\n"
     ]
    }
   ],
   "source": [
    "class Rectangle:\n",
    "    w=0.0\n",
    "    l=0.0\n",
    "    def calper(self):\n",
    "        self.l=int(input(\"Enter The Length\"))\n",
    "        self.w=int(input(\"Enter The width\"))\n",
    "        return (2*(self.l+self.w))\n",
    "r1=Rectangle()\n",
    "print(\"The Perimeter of Rectangle is\",r1.calper())\n"
   ]
  },
  {
   "cell_type": "code",
   "execution_count": 4,
   "metadata": {},
   "outputs": [
    {
     "name": "stdout",
     "output_type": "stream",
     "text": [
      "Enter The Radius5\n",
      "The Area Of circle is 78.5\n",
      "The Perimeter of Circle is 31.400000000000002\n",
      "Enter The Radius16\n",
      "The Area Of circle is 803.84\n",
      "The Circumference of circle is 100.48\n"
     ]
    }
   ],
   "source": [
    "class Circle:\n",
    "    rad=0.0\n",
    "    def __init__(self):\n",
    "        self.rad=float(input(\"Enter The Radius\"))\n",
    "    def areac(self):\n",
    "        return (3.14*self.rad*self.rad)\n",
    "    def perr(self):\n",
    "        return (2*3.14*self.rad)\n",
    "c1=Circle()\n",
    "print(\"The Area Of circle is\" ,c1.areac())\n",
    "print(\"The Perimeter of Circle is\" , c1.perr())\n",
    "\n",
    "class Circle2:\n",
    "    rad=0.0\n",
    "    def __init__(self):\n",
    "        self.rad=float(input(\"Enter The Radius\"))\n",
    "    def areac(self):\n",
    "        return (3.14*self.rad*self.rad)\n",
    "    def circum(self):\n",
    "        return (2*3.14*self.rad)\n",
    "c2=Circle2()\n",
    "print(\"The Area Of circle is\" ,c2.areac())\n",
    "print(\"The Circumference of circle is\" , c2.circum())\n"
   ]
  },
  {
   "cell_type": "code",
   "execution_count": 5,
   "metadata": {},
   "outputs": [
    {
     "name": "stdout",
     "output_type": "stream",
     "text": [
      "Enter the Temp in F123\n",
      "The Conversion of F to C is 50.55555555555556\n",
      "Enter The Temp in c231\n",
      "The Conversion of C to F is 447.8\n"
     ]
    }
   ],
   "source": [
    "class Temp:\n",
    "    f=0.0\n",
    "    c=0.0\n",
    "    def convf(self):\n",
    "        self.f=int(input(\"Enter the Temp in F\"))\n",
    "        return ((self.f-32)/1.8)\n",
    "    def convc(self):\n",
    "        self.c=int(input(\"Enter The Temp in c\"))\n",
    "        return ((self.c*1.8)+32)\n",
    "te=Temp()\n",
    "print(\"The Conversion of F to C is\",te.convf())\n",
    "print(\"The Conversion of C to F is\", te.convc())"
   ]
  },
  {
   "cell_type": "code",
   "execution_count": 6,
   "metadata": {},
   "outputs": [
    {
     "name": "stdout",
     "output_type": "stream",
     "text": [
      "('Harsh', 20, '2K18CSUN01019')\n",
      "Enter The Age of Student19\n",
      "The age of Student is 19\n",
      "Enter The Marks Of Student20\n",
      "The Update Marks Of Student is 20\n"
     ]
    }
   ],
   "source": [
    "class student():\n",
    "    name=\"\"\n",
    "    marks=0\n",
    "    age=0\n",
    "    RollNo=\"\"\n",
    "    def display(self):\n",
    "        return (self.name,self.marks,self.RollNo)\n",
    "    def setage(self):\n",
    "        self.age=int(input(\"Enter The Age of Student\"))\n",
    "        return (self.age)\n",
    "    def setmarks(self):\n",
    "        self.marks=int(input(\"Enter The Marks Of Student\"))\n",
    "        return (self.marks)\n",
    "stu=student()\n",
    "stu.name=\"Harsh\"\n",
    "stu.marks=20\n",
    "stu.RollNo=\"2K18CSUN01019\"\n",
    "print(stu.display())\n",
    "print(\"The age of Student is\", stu.setage())\n",
    "print(\"The Update Marks Of Student is\", stu.setmarks())"
   ]
  },
  {
   "cell_type": "code",
   "execution_count": 7,
   "metadata": {},
   "outputs": [
    {
     "name": "stdout",
     "output_type": "stream",
     "text": [
      "Enter The Hour 13\n",
      "Enter the minute13\n",
      "Enter Another hour20\n",
      "Enter Another Minute20\n",
      "The Total Time is\n",
      "33 Hour and  33 min\n",
      "The Total Minute is 2013\n"
     ]
    }
   ],
   "source": [
    "class Time:\n",
    "    hour = 0\n",
    "    hour1 = 0\n",
    "    min = 0\n",
    "    min1 = 0\n",
    "    tothr=0\n",
    "    totmin=0\n",
    "\n",
    "    def addTime(self):\n",
    "        self.hour = int(input(\"Enter The Hour \"))\n",
    "        self.min = int(input(\"Enter the minute\"))\n",
    "        self.hour1 = int(input(\"Enter Another hour\"))\n",
    "        self.min1 = int(input(\"Enter Another Minute\"))\n",
    "\n",
    "    def displaytime(self):\n",
    "        self.tothr=self.hour + self.hour1\n",
    "        self.totmin=self.min + self.min1\n",
    "        print(self.tothr,\"Hour and \",self.totmin,\"min\")\n",
    "    def displaymin(self):\n",
    "        return (60*self.tothr+self.totmin)\n",
    "\n",
    "\n",
    "\n",
    "\n",
    "b1 = Time()\n",
    "b1.addTime()\n",
    "print(\"The Total Time is\")\n",
    "b1.displaytime()\n",
    "print(\"The Total Minute is\",b1.displaymin())"
   ]
  },
  {
   "cell_type": "code",
   "execution_count": 8,
   "metadata": {},
   "outputs": [
    {
     "name": "stdout",
     "output_type": "stream",
     "text": [
      "Enter The String harsh\n",
      "hsrah\n"
     ]
    }
   ],
   "source": [
    "class reversestring:\n",
    "    a=\"\"\n",
    "    def rev_fun(self):\n",
    "        self.a=input(\"Enter The String \")\n",
    "        return self.a[::-1]\n",
    "rev=reversestring()\n",
    "print(rev.rev_fun())"
   ]
  },
  {
   "cell_type": "code",
   "execution_count": null,
   "metadata": {},
   "outputs": [],
   "source": []
  }
 ],
 "metadata": {
  "kernelspec": {
   "display_name": "Python 3",
   "language": "python",
   "name": "python3"
  },
  "language_info": {
   "codemirror_mode": {
    "name": "ipython",
    "version": 3
   },
   "file_extension": ".py",
   "mimetype": "text/x-python",
   "name": "python",
   "nbconvert_exporter": "python",
   "pygments_lexer": "ipython3",
   "version": "3.7.4"
  }
 },
 "nbformat": 4,
 "nbformat_minor": 2
}
